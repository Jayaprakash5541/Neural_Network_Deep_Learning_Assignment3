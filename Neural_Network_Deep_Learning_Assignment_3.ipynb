{
  "nbformat": 4,
  "nbformat_minor": 0,
  "metadata": {
    "colab": {
      "provenance": []
    },
    "kernelspec": {
      "name": "python3",
      "display_name": "Python 3"
    },
    "language_info": {
      "name": "python"
    }
  },
  "cells": [
    {
      "cell_type": "markdown",
      "source": [
        "1. Create a class called Employee, then perform the following actions.\n",
        "\n",
        ".Create a constructor to initialize name, family, salary, and department.\n",
        "\n",
        ".Create a data member to count the number of employees.\n",
        "\n",
        "• Add a function to calculate the average income.\n",
        "\n",
        "• Create a class called Fulltime Employee, and it should inherit the Employee class's properties.\n",
        "\n",
        "• Create instances of the Employee class and the Fulltime Employee class, then call each class's member functions.\n",
        "\n"
      ],
      "metadata": {
        "id": "gbMTHdJrXAIS"
      }
    },
    {
      "cell_type": "code",
      "execution_count": 1,
      "metadata": {
        "colab": {
          "base_uri": "https://localhost:8080/"
        },
        "id": "esJAPFLnyr3G",
        "outputId": "3239716d-e6da-4d03-f69f-de5ef12d1a0a"
      },
      "outputs": [
        {
          "output_type": "stream",
          "name": "stdout",
          "text": [
            " employees count: 5\n",
            "Avge income of Employees: 69666.66666666667\n",
            "Avge income of Fulltime Employees: 77500.0\n"
          ]
        }
      ],
      "source": [
        "class Employee:\n",
        "    emp_total = 0  # Class variable to calculate the total employees\n",
        "\n",
        "\n",
        "    def __init__(self, name, family, salary, department):\n",
        "        self.name = name\n",
        "        self.family = family\n",
        "        self.salary = salary\n",
        "        self.department = department\n",
        "        Employee.emp_total += 1  #Increase the number of employees\n",
        "\n",
        "\n",
        "    def avg_salary(employees):\n",
        "        employee_whole_salary = sum(emp.salary for emp in employees)\n",
        "        return employee_whole_salary / len(employees) if len(employees) > 0 else 0\n",
        "\n",
        "class FulltimeEmployee(Employee):\n",
        "    def __init__(self, name, family, salary, department):\n",
        "        super().__init__(name, family, salary, department)\n",
        "\n",
        "\n",
        "empe1 = Employee(\"Ajay M\", \"Fam x\",80000 , \"Accounts and finance\")\n",
        "empe2 = Employee(\"Kartheek B\", \"Fam y\", 59000, \"product development\")\n",
        "empe3 = Employee(\"Maneesh M\", \"Fam z\", 70000, \"sales and marketing\")\n",
        "\n",
        "fulltime_emply1 = FulltimeEmployee(\"John P\", \"Family T\", 90000, \"IT\")\n",
        "fulltime_emply2 = FulltimeEmployee(\"azhar md\", \"Family H\", 65000, \"Infrastructures\")\n",
        "\n",
        "#Using member functions in calls\n",
        "\n",
        "employees = [empe1, empe2, empe3]\n",
        "empeey56=[fulltime_emply1, fulltime_emply2]\n",
        "avg_salary_val = Employee.avg_salary(employees)\n",
        "avgee12=FulltimeEmployee.avg_salary(empeey56)\n",
        "print(f\" employees count: {Employee.emp_total}\")\n",
        "print(f\"Avge income of Employees: {avg_salary_val}\")\n",
        "print(f\"Avge income of Fulltime Employees: {avgee12}\")\n"
      ]
    },
    {
      "cell_type": "markdown",
      "source": [
        "2. Numpy\n",
        "\n",
        "Create a random vector of size 20 with only float values between 1 and 20 using NumPy.\n",
        "\n",
        "Replace the maximum in each row with 0 (axis=1), then resize the array to 4 by 5.\n",
        "\n",
        "(You CANNOT use a for loop to implement it.)"
      ],
      "metadata": {
        "id": "WFYJpDvdW8fg"
      }
    },
    {
      "cell_type": "code",
      "source": [
        "import numpy as np\n",
        "\n",
        "random_vect = np.round(np.random.uniform(1, 20, size=20), 1)\n",
        "print(\"Real matrix=\",random_vect)\n",
        "\n",
        "reshape__matrix =  random_vect.reshape(4, 5)\n",
        "\n",
        "max_indices = np.argmax(reshape__matrix, axis=1)\n",
        "reshape__matrix[np.arange(4), max_indices] = 0\n",
        "print(\"\\n new(reshape) matrix:\")\n",
        "print(reshape__matrix)"
      ],
      "metadata": {
        "colab": {
          "base_uri": "https://localhost:8080/"
        },
        "id": "iNLV9ZG_VUsk",
        "outputId": "dcb907a7-1f82-4c4d-a23c-2ecd65a2dac0"
      },
      "execution_count": 5,
      "outputs": [
        {
          "output_type": "stream",
          "name": "stdout",
          "text": [
            "Real matrix= [11.7  9.2  6.2  2.9  5.  14.7  7.5  4.9  1.4  1.8 15.1 10.4  6.2  4.2\n",
            "  7.6 18.2 13.  18.4 16.2 11.3]\n",
            "\n",
            " new(reshape) matrix:\n",
            "[[ 0.   9.2  6.2  2.9  5. ]\n",
            " [ 0.   7.5  4.9  1.4  1.8]\n",
            " [ 0.  10.4  6.2  4.2  7.6]\n",
            " [18.2 13.   0.  16.2 11.3]]\n"
          ]
        }
      ]
    }
  ]
}